{
  "cells": [
    {
      "cell_type": "markdown",
      "metadata": {
        "id": "dH7YAvaTuAM5"
      },
      "source": [
        "### TFIDF based Recommendation system\n",
        "\n",
        "- articles데이터의의 terms of bag of words 파악\n",
        "- 유저의 읽은 아티클과 관련 단어 추출\n",
        "- TF-IDF 행렬 생성(읽은 아티클,읽지 않은 아티클) \n",
        "- Cosine 유사도 생성(읽은 아티클,읽지 않은 아티클) \n",
        "- 추천될 아티클\n",
        "\n",
        "Describing parameters:\n",
        "\n",
        "- NEWS_ARTICLES: 데이터 지정\n",
        "- ARTICLES_READ: 사용자가 읽은 Article_Ids 목록\n",
        "- NO_RECOMMENDED_ARTICLES: 몇 개의 아티클 추천?\n"
      ]
    },
    {
      "cell_type": "code",
      "execution_count": null,
      "metadata": {
        "id": "NUQMeEqxuAM7"
      },
      "outputs": [],
      "source": [
        "NEWS_ARTICLES=\"NewsArticles.csv\"\n",
        "ARTICLES_READ=[1,10] \n",
        "NUM_RECOMMENDED_ARTICLES=5"
      ]
    },
    {
      "cell_type": "code",
      "execution_count": null,
      "metadata": {
        "id": "H9jdqy1ouAM8"
      },
      "outputs": [],
      "source": [
        "try:\n",
        "    import numpy\n",
        "    import pandas as pd\n",
        "    import pickle as pk\n",
        "    from sklearn.feature_extraction.text import TfidfVectorizer\n",
        "    from sklearn.metrics.pairwise import cosine_similarity\n",
        "    import re\n",
        "    from nltk.stem.snowball import SnowballStemmer\n",
        "    import nltk\n",
        "    stemmer = SnowballStemmer(\"english\")\n",
        "except ImportError:\n",
        "    print('You are missing some packages! ' \\\n",
        "          'We will try installing them before continuing!')\n",
        "    !pip install \"numpy\" \"pandas\" \"sklearn\" \"nltk\"\n",
        "    import numpy\n",
        "    import pandas as pd\n",
        "    import pickle as pk\n",
        "    from sklearn.feature_extraction.text import TfidfVectorizer\n",
        "    from sklearn.metrics.pairwise import cosine_similarity\n",
        "    import re\n",
        "    from nltk.stem.snowball import SnowballStemmer\n",
        "    import nltk\n",
        "    stemmer = SnowballStemmer(\"english\")\n",
        "    print('Done!')"
      ]
    },
    {
      "cell_type": "markdown",
      "metadata": {
        "id": "xGqsCCu2uAM9"
      },
      "source": [
        "#### Text sanitization\n",
        "\n",
        "- 불용어 제거\n",
        "- tokenizing\n",
        "- stemming\n"
      ]
    },
    {
      "cell_type": "code",
      "execution_count": null,
      "metadata": {
        "colab": {
          "base_uri": "https://localhost:8080/",
          "height": 279
        },
        "id": "jNByAsEhuAM-",
        "outputId": "a36d23f9-42ad-411b-fae1-2879f746d31f"
      },
      "outputs": [
        {
          "output_type": "execute_result",
          "data": {
            "text/plain": [
              "           publish_date                                article_source_link  \\\n",
              "article_id                                                                   \n",
              "1              2017/2/7  http://abcnews.go.com/Politics/pence-break-tie...   \n",
              "2              2017/2/7  http://abcnews.go.com/Politics/wireStory/melan...   \n",
              "3              2017/2/7  http://abcnews.go.com/Politics/wireStory/trump...   \n",
              "4              2017/2/7  http://abcnews.go.com/Politics/appeals-court-d...   \n",
              "5              2017/2/7  http://abcnews.go.com/US/23-states-winter-weat...   \n",
              "\n",
              "                                                        title subtitle  \\\n",
              "article_id                                                               \n",
              "1           Betsy DeVos Confirmed as Education Secretary, ...      NaN   \n",
              "2           Melania Trump Says White House Could Mean Mill...      NaN   \n",
              "3           As Trump Fears Fraud, GOP Eliminates Election ...      NaN   \n",
              "4           Appeals Court to Decide on Challenge to Trump'...      NaN   \n",
              "5           At Least 4 Tornadoes Reported in Southeast Lou...      NaN   \n",
              "\n",
              "                                                         text  \n",
              "article_id                                                     \n",
              "1           Michigan billionaire education activist Betsy ...  \n",
              "2           First lady Melania Trump has said little about...  \n",
              "3           A House committee voted on Tuesday to eliminat...  \n",
              "4           This afternoon, three federal judges from the ...  \n",
              "5           At least four tornadoes touched down in Louisi...  "
            ],
            "text/html": [
              "\n",
              "  <div id=\"df-1a54f913-34e3-42a9-b8d8-2a957e95fca2\">\n",
              "    <div class=\"colab-df-container\">\n",
              "      <div>\n",
              "<style scoped>\n",
              "    .dataframe tbody tr th:only-of-type {\n",
              "        vertical-align: middle;\n",
              "    }\n",
              "\n",
              "    .dataframe tbody tr th {\n",
              "        vertical-align: top;\n",
              "    }\n",
              "\n",
              "    .dataframe thead th {\n",
              "        text-align: right;\n",
              "    }\n",
              "</style>\n",
              "<table border=\"1\" class=\"dataframe\">\n",
              "  <thead>\n",
              "    <tr style=\"text-align: right;\">\n",
              "      <th></th>\n",
              "      <th>publish_date</th>\n",
              "      <th>article_source_link</th>\n",
              "      <th>title</th>\n",
              "      <th>subtitle</th>\n",
              "      <th>text</th>\n",
              "    </tr>\n",
              "    <tr>\n",
              "      <th>article_id</th>\n",
              "      <th></th>\n",
              "      <th></th>\n",
              "      <th></th>\n",
              "      <th></th>\n",
              "      <th></th>\n",
              "    </tr>\n",
              "  </thead>\n",
              "  <tbody>\n",
              "    <tr>\n",
              "      <th>1</th>\n",
              "      <td>2017/2/7</td>\n",
              "      <td>http://abcnews.go.com/Politics/pence-break-tie...</td>\n",
              "      <td>Betsy DeVos Confirmed as Education Secretary, ...</td>\n",
              "      <td>NaN</td>\n",
              "      <td>Michigan billionaire education activist Betsy ...</td>\n",
              "    </tr>\n",
              "    <tr>\n",
              "      <th>2</th>\n",
              "      <td>2017/2/7</td>\n",
              "      <td>http://abcnews.go.com/Politics/wireStory/melan...</td>\n",
              "      <td>Melania Trump Says White House Could Mean Mill...</td>\n",
              "      <td>NaN</td>\n",
              "      <td>First lady Melania Trump has said little about...</td>\n",
              "    </tr>\n",
              "    <tr>\n",
              "      <th>3</th>\n",
              "      <td>2017/2/7</td>\n",
              "      <td>http://abcnews.go.com/Politics/wireStory/trump...</td>\n",
              "      <td>As Trump Fears Fraud, GOP Eliminates Election ...</td>\n",
              "      <td>NaN</td>\n",
              "      <td>A House committee voted on Tuesday to eliminat...</td>\n",
              "    </tr>\n",
              "    <tr>\n",
              "      <th>4</th>\n",
              "      <td>2017/2/7</td>\n",
              "      <td>http://abcnews.go.com/Politics/appeals-court-d...</td>\n",
              "      <td>Appeals Court to Decide on Challenge to Trump'...</td>\n",
              "      <td>NaN</td>\n",
              "      <td>This afternoon, three federal judges from the ...</td>\n",
              "    </tr>\n",
              "    <tr>\n",
              "      <th>5</th>\n",
              "      <td>2017/2/7</td>\n",
              "      <td>http://abcnews.go.com/US/23-states-winter-weat...</td>\n",
              "      <td>At Least 4 Tornadoes Reported in Southeast Lou...</td>\n",
              "      <td>NaN</td>\n",
              "      <td>At least four tornadoes touched down in Louisi...</td>\n",
              "    </tr>\n",
              "  </tbody>\n",
              "</table>\n",
              "</div>\n",
              "      <button class=\"colab-df-convert\" onclick=\"convertToInteractive('df-1a54f913-34e3-42a9-b8d8-2a957e95fca2')\"\n",
              "              title=\"Convert this dataframe to an interactive table.\"\n",
              "              style=\"display:none;\">\n",
              "        \n",
              "  <svg xmlns=\"http://www.w3.org/2000/svg\" height=\"24px\"viewBox=\"0 0 24 24\"\n",
              "       width=\"24px\">\n",
              "    <path d=\"M0 0h24v24H0V0z\" fill=\"none\"/>\n",
              "    <path d=\"M18.56 5.44l.94 2.06.94-2.06 2.06-.94-2.06-.94-.94-2.06-.94 2.06-2.06.94zm-11 1L8.5 8.5l.94-2.06 2.06-.94-2.06-.94L8.5 2.5l-.94 2.06-2.06.94zm10 10l.94 2.06.94-2.06 2.06-.94-2.06-.94-.94-2.06-.94 2.06-2.06.94z\"/><path d=\"M17.41 7.96l-1.37-1.37c-.4-.4-.92-.59-1.43-.59-.52 0-1.04.2-1.43.59L10.3 9.45l-7.72 7.72c-.78.78-.78 2.05 0 2.83L4 21.41c.39.39.9.59 1.41.59.51 0 1.02-.2 1.41-.59l7.78-7.78 2.81-2.81c.8-.78.8-2.07 0-2.86zM5.41 20L4 18.59l7.72-7.72 1.47 1.35L5.41 20z\"/>\n",
              "  </svg>\n",
              "      </button>\n",
              "      \n",
              "  <style>\n",
              "    .colab-df-container {\n",
              "      display:flex;\n",
              "      flex-wrap:wrap;\n",
              "      gap: 12px;\n",
              "    }\n",
              "\n",
              "    .colab-df-convert {\n",
              "      background-color: #E8F0FE;\n",
              "      border: none;\n",
              "      border-radius: 50%;\n",
              "      cursor: pointer;\n",
              "      display: none;\n",
              "      fill: #1967D2;\n",
              "      height: 32px;\n",
              "      padding: 0 0 0 0;\n",
              "      width: 32px;\n",
              "    }\n",
              "\n",
              "    .colab-df-convert:hover {\n",
              "      background-color: #E2EBFA;\n",
              "      box-shadow: 0px 1px 2px rgba(60, 64, 67, 0.3), 0px 1px 3px 1px rgba(60, 64, 67, 0.15);\n",
              "      fill: #174EA6;\n",
              "    }\n",
              "\n",
              "    [theme=dark] .colab-df-convert {\n",
              "      background-color: #3B4455;\n",
              "      fill: #D2E3FC;\n",
              "    }\n",
              "\n",
              "    [theme=dark] .colab-df-convert:hover {\n",
              "      background-color: #434B5C;\n",
              "      box-shadow: 0px 1px 3px 1px rgba(0, 0, 0, 0.15);\n",
              "      filter: drop-shadow(0px 1px 2px rgba(0, 0, 0, 0.3));\n",
              "      fill: #FFFFFF;\n",
              "    }\n",
              "  </style>\n",
              "\n",
              "      <script>\n",
              "        const buttonEl =\n",
              "          document.querySelector('#df-1a54f913-34e3-42a9-b8d8-2a957e95fca2 button.colab-df-convert');\n",
              "        buttonEl.style.display =\n",
              "          google.colab.kernel.accessAllowed ? 'block' : 'none';\n",
              "\n",
              "        async function convertToInteractive(key) {\n",
              "          const element = document.querySelector('#df-1a54f913-34e3-42a9-b8d8-2a957e95fca2');\n",
              "          const dataTable =\n",
              "            await google.colab.kernel.invokeFunction('convertToInteractive',\n",
              "                                                     [key], {});\n",
              "          if (!dataTable) return;\n",
              "\n",
              "          const docLinkHtml = 'Like what you see? Visit the ' +\n",
              "            '<a target=\"_blank\" href=https://colab.research.google.com/notebooks/data_table.ipynb>data table notebook</a>'\n",
              "            + ' to learn more about interactive tables.';\n",
              "          element.innerHTML = '';\n",
              "          dataTable['output_type'] = 'display_data';\n",
              "          await google.colab.output.renderOutput(dataTable, element);\n",
              "          const docLink = document.createElement('div');\n",
              "          docLink.innerHTML = docLinkHtml;\n",
              "          element.appendChild(docLink);\n",
              "        }\n",
              "      </script>\n",
              "    </div>\n",
              "  </div>\n",
              "  "
            ]
          },
          "metadata": {},
          "execution_count": 3
        }
      ],
      "source": [
        "news_articles = pd.read_csv(NEWS_ARTICLES,encoding='unicode_escape',index_col=0)\n",
        "news_articles.drop(news_articles.columns[news_articles.columns.str.contains('unnamed',case = False)],axis = 1, inplace = True)\n",
        "news_articles.head()"
      ]
    },
    {
      "cell_type": "code",
      "source": [
        "news_articles.shape"
      ],
      "metadata": {
        "colab": {
          "base_uri": "https://localhost:8080/"
        },
        "id": "X20YI5KywOfr",
        "outputId": "5f33a024-829b-48d8-de24-f948dbb33c6a"
      },
      "execution_count": null,
      "outputs": [
        {
          "output_type": "execute_result",
          "data": {
            "text/plain": [
              "(3824, 5)"
            ]
          },
          "metadata": {},
          "execution_count": 4
        }
      ]
    },
    {
      "cell_type": "code",
      "execution_count": 8,
      "metadata": {
        "colab": {
          "base_uri": "https://localhost:8080/",
          "height": 259
        },
        "id": "9FbUnMOcuAM_",
        "outputId": "85a0b7de-e8df-43d2-e9f1-ef624672024a"
      },
      "outputs": [
        {
          "output_type": "execute_result",
          "data": {
            "text/plain": [
              "'Michigan billionaire education activist Betsy DeVos was confirmed today to serve as the secretary of education in President Trump\\'s administration, after Vice President Mike Pence cast a tie-breaking vote in the Senate. The Senate voted on DeVos\"?highly contentious nomination this afternoon, and the tally was split evenly, requiring Pence to use his authority as president of the upper chamber of Congress to break the impasse. This was the first time that a vice president has broken a tie to confirm a Cabinet nominee. Pence read the vote count 50-50 and then voted himself, rendering the tally 51-50. The day before the vote, Democrats staged a 24-hour marathon of speeches, with more than 30 lawmakers taking to the floor to urge at least one additional Republican to vote against DeVos and block her confirmation. \"It is hard to imagine a worse choice,\"?Sen. Elizabeth Warren, D-Mass., said before she read letters from constituents urging her to vote no. DeVos stirred up vehement opposition from teachers\"?unions and all 48 Senate Democrats. Many cited concerns about her support of school vouchers, which critics believe will weaken public schools, and her lack of experience, since she never attended or worked in the public education system. Others cited her lack of familiarity with a landmark law protecting the education needs of disabled children.     She was panned for a gaffe during her confirmation hearing, when she hedged on an answer about guns in schools by saying they might be needed in states like Wyoming to defend against \"potential grizzlies.\"?DeVos\\' nomination drew above-average negative reactions from the public, with voters flooding Senate phone lines and email accounts in recent weeks. Sen. Chris Van Hollen, D-Md., said his office received 14,000 calls about DeVos. In addition to the entire Democratic caucus, two moderate Republicans, Sens. Susan Collins of Maine and Lisa Murkowski of Alaska announced they would not support DeVos. During a speech announcing her opposition, Collins said DeVos\"?focus on charters and vouchers \"raises the question of whether or not she fully appreciates that the secretary of education\\'s primary focus must be on helping states and communities, parents, teachers, school board members and administrators strengthen our public schools.\"?Before the confirmation vote, the Senate Health, Education, Labor and Pensions Committee voted along party lines, 12-11, to refer DeVos\"?nomination to the full Senate. ABC News\"?Morgan Winsor contributed to this report.'"
            ],
            "application/vnd.google.colaboratory.intrinsic+json": {
              "type": "string"
            }
          },
          "metadata": {},
          "execution_count": 8
        }
      ],
      "source": [
        "news_articles = news_articles[['title','text']].dropna()\n",
        "articles = news_articles['text'].tolist()\n",
        "articles[0] #정제 되기 전|"
      ]
    },
    {
      "cell_type": "code",
      "execution_count": 19,
      "metadata": {
        "id": "a5HI4RzXuAM_"
      },
      "outputs": [],
      "source": [
        "def clean_text(document):\n",
        "    document = re.sub('[^\\w_\\s-]', ' ',document)       #remove punctuation marks and other symbols\n",
        "    document = re.sub('<.+?>', '', document, 0, re.I|re.S)\n",
        "    #document = re.sub('&nbsp;| |\\t|\\r|', '', document)\n",
        "    tokens = nltk.word_tokenize(document)              #Tokenize \n",
        "    cleaned_article = ' '.join([stemmer.stem(item) for item in tokens])    #Stemming\n",
        "    return cleaned_article"
      ]
    },
    {
      "cell_type": "code",
      "source": [
        "import nltk\n",
        "nltk.download('all')\n"
      ],
      "metadata": {
        "id": "NDIfy7uQugET"
      },
      "execution_count": null,
      "outputs": []
    },
    {
      "cell_type": "code",
      "execution_count": 20,
      "metadata": {
        "colab": {
          "base_uri": "https://localhost:8080/",
          "height": 259
        },
        "id": "bUJoF61luANA",
        "outputId": "285be8cd-c7c2-4ced-e3b7-7c37ae0f82cd"
      },
      "outputs": [
        {
          "output_type": "execute_result",
          "data": {
            "text/plain": [
              "'michigan billionair educ activist betsi devo was confirm today to serv as the secretari of educ in presid trump s administr after vice presid mike penc cast a tie-break vote in the senat the senat vote on devo high contenti nomin this afternoon and the talli was split even requir penc to use his author as presid of the upper chamber of congress to break the impass this was the first time that a vice presid has broken a tie to confirm a cabinet nomine penc read the vote count 50-50 and then vote himself render the talli 51-50 the day befor the vote democrat stage a 24-hour marathon of speech with more than 30 lawmak take to the floor to urg at least one addit republican to vote against devo and block her confirm it is hard to imagin a wors choic sen elizabeth warren d-mass said befor she read letter from constitu urg her to vote no devo stir up vehement opposit from teacher union and all 48 senat democrat mani cite concern about her support of school voucher which critic believ will weaken public school and her lack of experi sinc she never attend or work in the public educ system other cite her lack of familiar with a landmark law protect the educ need of disabl children she was pan for a gaff dure her confirm hear when she hedg on an answer about gun in school by say they might be need in state like wyom to defend against potenti grizzli devo nomin drew above-averag negat reaction from the public with voter flood senat phone line and email account in recent week sen chris van hollen d-md said his offic receiv 14 000 call about devo in addit to the entir democrat caucus two moder republican sen susan collin of main and lisa murkowski of alaska announc they would not support devo dure a speech announc her opposit collin said devo focus on charter and voucher rais the question of whether or not she fulli appreci that the secretari of educ s primari focus must be on help state and communiti parent teacher school board member and administr strengthen our public school befor the confirm vote the senat health educ labor and pension committe vote along parti line 12-11 to refer devo nomin to the full senat abc news morgan winsor contribut to this report'"
            ],
            "application/vnd.google.colaboratory.intrinsic+json": {
              "type": "string"
            }
          },
          "metadata": {},
          "execution_count": 20
        }
      ],
      "source": [
        "cleaned_articles = list(map(clean_text, articles))\n",
        "cleaned_articles[0]  #정제가 잘 되었나 확인"
      ]
    },
    {
      "cell_type": "markdown",
      "metadata": {
        "id": "DnFhOyx7uANA"
      },
      "source": [
        "#### user가 읽은 아티클 "
      ]
    },
    {
      "cell_type": "code",
      "execution_count": 21,
      "metadata": {
        "colab": {
          "base_uri": "https://localhost:8080/",
          "height": 259
        },
        "id": "JAcde0d7uANB",
        "outputId": "4c6882c0-b7f5-42be-f54e-8c706b412df8"
      },
      "outputs": [
        {
          "output_type": "execute_result",
          "data": {
            "text/plain": [
              "'first ladi melania trump has said littl about what she intend to do with her promin posit but in new court document her lawyer say that the multi-year term dure which she is one of the most photograph women in the world could mean million of dollar for her person brand while the new document don t specif mention her term as first ladi the unusu statement about her expect profit drew swift condemn from ethic watchdog as inappropri profit from her high-profil posit which is typic center on public servic the statement came monday in a libel lawsuit the first ladi re-fil in a state trial court in manhattan trump has been su the corpor that publish the daili mail s websit over a now-retract report that claim she onc work as an escort in the file monday trump s lawyer argu that the report was not onli fals and libel but also damag her abil to profit off her high profil and affect her busi opportun trump had the uniqu once-in-a-lifetim opportun as an extrem famous and well-known person as well as a former profession model brand spokesperson and success businesswoman to launch a broad-bas commerci brand in multipl product categori each of which could have garner multi-million dollar busi relationship for a multi-year term dure which plaintiff is one of the most photograph women in the world the lawsuit said the product could have includ apparel accessori jewelri cosmet hair care and fragranc among other the suit say the first ladi is seek compensatori and punit damag of at least 150 million richard painter who advis former presid georg w bush on ethic said the languag in the lawsuit show melania trump is engag in an unpreced clear breach of rule about use her govern posit for privat gain this is a veri serious situat where she say she intend to make a lot of money that ought to be repudi by the white hous or investig by congress painter is part of a group of attorney su the presid for an alleg violat of a constitut claus that prohibit presid from receiv foreign gift or payment in respons to question from the associ press charl harder melania trump s attorney said the first ladi has no intent of use her posit for profit and will not do so it is not a possibl ani statement to the contrari are be misinterpret harder did not respond to a follow-up question about what the lawsuit mean by once-in-a-lifetim opportun to painter and other there is no ambigu she s not talk about the futur painter said she s talk about earn money now scott amey general counsel of the washington watchdog project on govern oversight said it is anoth exampl of the first famili blur the line between public servic and privat busi interest trump previous file the lawsuit against mail media inc in maryland but a judg earlier this month rule the case was file in the wrong court the lawsuit is now file in new york where the corpor has offic trump also had su blogger webster tarpley for report the unsubstanti rumor trump file the lawsuit in maryland after both tarpley and the daili mail issu retract on tuesday melania trump s attorney said they d settl the maryland case against tarpley mr tarpley has issu the attach retract and apolog to mrs trump and her famili and agre to pay her a substanti sum as a settlement harder s offic said in a statement melania trump s previous work in market has drawn scrutini befor on inaugur day the offici white hous biographi for melania trump origin includ an explicit refer to her jewelri collect which it note was sold on the home-shop channel qvc by the next day that bio had been edit and simplifi to say that she had launch her own jewelri collect a spokeswoman for the first ladi said the websit was updat out of an abund of caution and that the jewelri line is no longer avail in ani case presid donald trump continu to financi benefit from his global busi empir break from past practic previous presid and their famili have divest from busi interest and place their hold in a blind trust although there is no legal requir to do so trump hand daili manag of the real estat properti manag and licens to his adult son and a longtim trump organ employe the flu season has been particular rough in new york citi this year with four pediatr death from the virus report in the citi all in januari accord to new york state health depart the flu has been spread across the countri with the u s center for diseas control and prevent see epidem level of flu activ late last month there have been 15 flu-rel pediatr death in the nation dure this current flu season the cdc report last week new york new jersey and pennsylvania all report high level of flu-lik activ accord to a cdc flu report last week dr william schaffner an infecti diseas expert at vanderbilt univers medic center said while the death are tragic the new york case are not unusu for the flu season the new york state depart of health did not disclos the age of the children or whether they had been vaccin or had an under condit that would have put them at addit risk for complic everi year in our pediatr emerg room come children who are otherwis clear healthi and they are serious ill with the flu schaffner said of vanderbilt the lesson is that flu can strike even healthi children dure the previous flu season a total of 89 pediatr death relat to the flu virus were report in the u s accord to the cdc public health expert have been concern about vaccin rate sinc pediatrician may have had difficulti get some children to get vaccin against the flu if they have an avers to needl schaffner note while in the past doctor could vaccin needle-avers children with a flu mist vaccin they were advis not to use the flu nasal spray this year sinc it was found less effect than a vaccin inject it s clear that the substanti major of children who die from influenza everi year have not been vaccin schaffner said clarifi that he was speak general and not about the recent death in new york flu can caus symptom of headach fever joint pain and cough the season flu general spread across the u s from novemb till march with the peak number of case often occur in februari the number of peopl affect everi year can vari wide but general the cdc report that million of peopl are sicken hundr of thousand are hospit and thousand or ten of thousand of peopl die from flu everi year children under the age of 1 are at increas likelihood of develop complic if they contract the flu'"
            ],
            "application/vnd.google.colaboratory.intrinsic+json": {
              "type": "string"
            }
          },
          "metadata": {},
          "execution_count": 21
        }
      ],
      "source": [
        "user_articles = ' '.join(cleaned_articles[i] for i in ARTICLES_READ)\n",
        "user_articles"
      ]
    },
    {
      "cell_type": "markdown",
      "metadata": {
        "id": "OU30BxROuANB"
      },
      "source": [
        "### TF-IDF 행렬 생성(읽은 아티클,읽지 않은 아티클)"
      ]
    },
    {
      "cell_type": "code",
      "execution_count": 22,
      "metadata": {
        "colab": {
          "base_uri": "https://localhost:8080/"
        },
        "id": "xf1omZfuuANC",
        "outputId": "16d9741b-de89-4852-ef24-3d4a27688a3f"
      },
      "outputs": [
        {
          "output_type": "execute_result",
          "data": {
            "text/plain": [
              "<3732x18771 sparse matrix of type '<class 'numpy.float64'>'\n",
              "\twith 670119 stored elements in Compressed Sparse Row format>"
            ]
          },
          "metadata": {},
          "execution_count": 22
        }
      ],
      "source": [
        "tfidf_matrix = TfidfVectorizer(stop_words='english', min_df=2) \n",
        "article_tfidf_matrix = tfidf_matrix.fit_transform(cleaned_articles)\n",
        "article_tfidf_matrix "
      ]
    },
    {
      "cell_type": "markdown",
      "source": [
        "https://chan-lab.tistory.com/27"
      ],
      "metadata": {
        "id": "cdme3Tmezhic"
      }
    },
    {
      "cell_type": "code",
      "execution_count": 23,
      "metadata": {
        "colab": {
          "base_uri": "https://localhost:8080/"
        },
        "id": "opBo6qLyuANC",
        "outputId": "3e5f8823-d933-441e-b5a8-8351d30ba544"
      },
      "outputs": [
        {
          "output_type": "execute_result",
          "data": {
            "text/plain": [
              "<1x18771 sparse matrix of type '<class 'numpy.float64'>'\n",
              "\twith 355 stored elements in Compressed Sparse Row format>"
            ]
          },
          "metadata": {},
          "execution_count": 23
        }
      ],
      "source": [
        "# tfidf matrix: 읽은 기사\n",
        "user_article_tfidf_vector = tfidf_matrix.transform([user_articles])\n",
        "user_article_tfidf_vector"
      ]
    },
    {
      "cell_type": "code",
      "execution_count": 24,
      "metadata": {
        "colab": {
          "base_uri": "https://localhost:8080/"
        },
        "id": "dTbCTAhDuAND",
        "outputId": "0e88d189-1ab3-4e3c-9583-50ecc9f08400"
      },
      "outputs": [
        {
          "output_type": "execute_result",
          "data": {
            "text/plain": [
              "array([[0., 0., 0., ..., 0., 0., 0.]])"
            ]
          },
          "metadata": {},
          "execution_count": 24
        }
      ],
      "source": [
        "user_article_tfidf_vector.toarray()"
      ]
    },
    {
      "cell_type": "markdown",
      "metadata": {
        "id": "kLhEMU4uuAND"
      },
      "source": [
        "### Cosine 유사도 생성(읽은 아티클,읽지 않은 아티클)"
      ]
    },
    {
      "cell_type": "code",
      "execution_count": 25,
      "metadata": {
        "id": "jpba5tGTuAND"
      },
      "outputs": [],
      "source": [
        "articles_similarity_score=cosine_similarity(article_tfidf_matrix, user_article_tfidf_vector)"
      ]
    },
    {
      "cell_type": "code",
      "execution_count": 26,
      "metadata": {
        "id": "CvhF5kLuuANE"
      },
      "outputs": [],
      "source": [
        "recommended_articles_id = articles_similarity_score.flatten().argsort()[::-1]"
      ]
    },
    {
      "cell_type": "code",
      "execution_count": 27,
      "metadata": {
        "colab": {
          "base_uri": "https://localhost:8080/"
        },
        "id": "Kc6fLO-VuANE",
        "outputId": "98c7d05f-88c1-4985-8a10-c5f68fab5b5a"
      },
      "outputs": [
        {
          "output_type": "execute_result",
          "data": {
            "text/plain": [
              "array([  10, 1093,    1, ..., 1895, 2879,  276])"
            ]
          },
          "metadata": {},
          "execution_count": 27
        }
      ],
      "source": [
        "recommended_articles_id"
      ]
    },
    {
      "cell_type": "code",
      "execution_count": 28,
      "metadata": {
        "id": "CbqDsJ9JuANF"
      },
      "outputs": [],
      "source": [
        "#읽은 기사는 추천시스템에서 제거 \n",
        "final_recommended_articles_id = [article_id for article_id in recommended_articles_id \n",
        "                                 if article_id not in ARTICLES_READ ][:NUM_RECOMMENDED_ARTICLES]"
      ]
    },
    {
      "cell_type": "code",
      "execution_count": 30,
      "metadata": {
        "colab": {
          "base_uri": "https://localhost:8080/"
        },
        "id": "kUKV2wE-uANF",
        "outputId": "ef6b5a06-3b82-43c8-f195-7feb0dce1b3f"
      },
      "outputs": [
        {
          "output_type": "execute_result",
          "data": {
            "text/plain": [
              "[1093, 55, 233, 372, 3098]"
            ]
          },
          "metadata": {},
          "execution_count": 30
        }
      ],
      "source": [
        "final_recommended_articles_id#추천됨"
      ]
    },
    {
      "cell_type": "markdown",
      "metadata": {
        "id": "vE4D15KEuANF"
      },
      "source": [
        "### Article Recommendation"
      ]
    },
    {
      "cell_type": "code",
      "execution_count": 31,
      "metadata": {
        "colab": {
          "base_uri": "https://localhost:8080/"
        },
        "id": "KJAQvCdBuANF",
        "outputId": "bca519a9-2d55-4d07-d24e-31082bb35a7a"
      },
      "outputs": [
        {
          "output_type": "stream",
          "name": "stdout",
          "text": [
            "Articles Read\n",
            "article_id\n",
            "1     Betsy DeVos Confirmed as Education Secretary, ...\n",
            "10    Multi-State Manhunt in Southeast Intensifies f...\n",
            "Name: title, dtype: object\n",
            "\n",
            "\n",
            "Recommendations \n",
            "article_id\n",
            "1093             Adele sweeps the boards at Grammy Awards\n",
            "55      How child predator was caught by tiny clue in ...\n",
            "233     What goes on in a far-right Facebook filter bu...\n",
            "372     Beijing, Manila agree on $3.7b in shared projects\n",
            "3098    Iconic New York Columnist Jimmy Breslin Dead A...\n",
            "Name: title, dtype: object\n"
          ]
        }
      ],
      "source": [
        "#Recommended Articles and their title\n",
        "print ('Articles Read')\n",
        "print (news_articles.loc[ARTICLES_READ]['title'])\n",
        "print ('\\n')\n",
        "print ('Recommendations ')\n",
        "print (news_articles.loc[final_recommended_articles_id]['title'])"
      ]
    }
  ],
  "metadata": {
    "kernelspec": {
      "display_name": "Python 3",
      "language": "python",
      "name": "python3"
    },
    "language_info": {
      "codemirror_mode": {
        "name": "ipython",
        "version": 3
      },
      "file_extension": ".py",
      "mimetype": "text/x-python",
      "name": "python",
      "nbconvert_exporter": "python",
      "pygments_lexer": "ipython3",
      "version": "3.7.1"
    },
    "colab": {
      "provenance": []
    }
  },
  "nbformat": 4,
  "nbformat_minor": 0
}